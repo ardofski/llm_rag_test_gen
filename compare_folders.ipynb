{
 "cells": [
  {
   "cell_type": "code",
   "execution_count": 12,
   "metadata": {},
   "outputs": [],
   "source": [
    "import os\n",
    "import filecmp\n",
    "from glob import glob\n",
    "\n",
    "def compare_folders(folder1: str, folder2: str):\n",
    "    \"\"\"\n",
    "    Compares the files in two folders. Reports files that are unique to each folder,\n",
    "    files that differ in content, and the content differences for differing files.\n",
    "\n",
    "    Args:\n",
    "        folder1 (str): Path to the first folder.\n",
    "        folder2 (str): Path to the second folder.\n",
    "\n",
    "    Returns:\n",
    "        dict: A dictionary with comparison results.\n",
    "    \"\"\"\n",
    "    if not os.path.isdir(folder1) or not os.path.isdir(folder2):\n",
    "        raise ValueError(\"Both inputs must be valid folder paths.\")\n",
    "\n",
    "    # Get list of files in each folder\n",
    "    files1 = glob(os.path.join(folder1, '**/*.java'), recursive=True)\n",
    "    files2 = glob(os.path.join(folder2, '**/*.java'), recursive=True)\n",
    "\n",
    "    # find files relative to the folder\n",
    "    files1 = [os.path.relpath(file, folder1) for file in files1]\n",
    "    files2 = [os.path.relpath(file, folder2) for file in files2]\n",
    "\n",
    "    # Find files unique to each folder\n",
    "    unique_files1 = set(files1) - set(files2)\n",
    "    unique_files2 = set(files2) - set(files1)\n",
    "\n",
    "    # Find files that are common to both folders\n",
    "    common_files = set(files1) & set(files2)\n",
    "\n",
    "    print(f\"Files unique to {folder1}:\")\n",
    "    for file in unique_files1:\n",
    "        print(f\"  {file}\")\n",
    "\n",
    "    print(f\"Files unique to {folder2}:\")\n",
    "    for file in unique_files2:\n",
    "        print(f\"  {file}\")\n",
    "\n",
    "    # for each common file, compare the content\n",
    "    differing_files = []\n",
    "    for file in common_files:\n",
    "        file1 = os.path.join(folder1, file)\n",
    "        file2 = os.path.join(folder2, file)\n",
    "        if not filecmp.cmp(file1, file2):\n",
    "            differing_files.append(file)\n",
    "\n",
    "    print(f\"Files differing in content:\")\n",
    "    for file in differing_files:\n",
    "        print(f\"  {file}\")"
   ]
  },
  {
   "cell_type": "code",
   "execution_count": 17,
   "metadata": {},
   "outputs": [
    {
     "name": "stdout",
     "output_type": "stream",
     "text": [
      "Files unique to /mnt/seconddisk/master/courses/cs588/playgrounds.ipynb/OUTPUT_BUGGY/Cli/Cli_15_buggy:\n",
      "Files unique to /mnt/seconddisk/master/courses/cs588/playgrounds.ipynb/OUTPUT_FIXED/Cli/Cli_15_fixed:\n",
      "Files differing in content:\n",
      "  src/java/org/apache/commons/cli2/commandline/WriteableCommandLineImpl.java\n",
      "None\n"
     ]
    }
   ],
   "source": [
    "path1 = '/mnt/seconddisk/master/courses/cs588/playgrounds.ipynb/OUTPUT_BUGGY/Cli/Cli_15_buggy'\n",
    "path2 = '/mnt/seconddisk/master/courses/cs588/playgrounds.ipynb/OUTPUT_FIXED/Cli/Cli_15_fixed'\n",
    "\n",
    "result = compare_folders(path1, path2)\n",
    "print(result)"
   ]
  },
  {
   "cell_type": "code",
   "execution_count": null,
   "metadata": {},
   "outputs": [],
   "source": []
  }
 ],
 "metadata": {
  "kernelspec": {
   "display_name": "py39",
   "language": "python",
   "name": "python3"
  },
  "language_info": {
   "codemirror_mode": {
    "name": "ipython",
    "version": 3
   },
   "file_extension": ".py",
   "mimetype": "text/x-python",
   "name": "python",
   "nbconvert_exporter": "python",
   "pygments_lexer": "ipython3",
   "version": "3.9.15"
  }
 },
 "nbformat": 4,
 "nbformat_minor": 2
}
